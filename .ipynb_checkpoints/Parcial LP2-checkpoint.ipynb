{
 "cells": [
  {
   "cell_type": "markdown",
   "id": "62768753",
   "metadata": {},
   "source": [
    "<div align=\"center\">\n",
    "\n",
    "# Parcial de LP2\n",
    "\n",
    "</div>\n",
    "\n",
    "Este documento se utilizará para realizar una interacción en GitHub como parte del parcial de LP2. En esta actividad, exploraremos diferentes aspectos de Git y GitHub, incluyendo la creación de repositorios, la colaboración en proyectos y el control de versiones.\n"
   ]
  },
  {
   "cell_type": "markdown",
   "id": "d5f4b145-8de6-44f9-b27c-c67e7af6e42a",
   "metadata": {},
   "source": [
    "# <center>Ficheros</center>\n",
    "\n",
    "En informática, un archivo o fichero también es un conjunto de información que se almacena en forma virtual para ser leído y/o accedido por medio de una computadora.\n",
    "Las posibilidades de almacenamiento y clasificación son mucho más ricas en un sistema informático, ya que la información no ocupa un espacio físico y, por ende, es posible conservar millones de datos en un dispositivo muy pequeño. Inclusive, se puede guardar información de texto, audio o video en un mismo lugar sin inconveniente alguno. (fuente: web)"
   ]
  },
  {
   "cell_type": "markdown",
   "id": "b24474ac-0539-4e45-840c-53c70fe6b66d",
   "metadata": {},
   "source": [
    "![Turing's Device](http://www.google.com/logos/2012/turing-doodle-static.jpg \"Alan Turing's 100th Birthday\")"
   ]
  },
  {
   "cell_type": "code",
   "execution_count": null,
   "id": "97f58d80-feda-4012-99ff-427ef6de62c8",
   "metadata": {},
   "outputs": [],
   "source": []
  }
 ],
 "metadata": {
  "kernelspec": {
   "display_name": "Python 3 (ipykernel)",
   "language": "python",
   "name": "python3"
  },
  "language_info": {
   "codemirror_mode": {
    "name": "ipython",
    "version": 3
   },
   "file_extension": ".py",
   "mimetype": "text/x-python",
   "name": "python",
   "nbconvert_exporter": "python",
   "pygments_lexer": "ipython3",
   "version": "3.11.7"
  }
 },
 "nbformat": 4,
 "nbformat_minor": 5
}
