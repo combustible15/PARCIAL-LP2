{
 "cells": [
  {
   "cell_type": "markdown",
   "id": "62768753",
   "metadata": {},
   "source": [
    "<div align=\"center\">\n",
    "\n",
    "# Parcial de LP2\n",
    "\n",
    "</div>\n",
    "\n",
    "Este documento se utilizará para realizar una interacción en GitHub como parte del parcial de LP2. En esta actividad, exploraremos diferentes aspectos de Git y GitHub, incluyendo la creación de repositorios, la colaboración en proyectos y el control de versiones.\n"
   ]
  }
 ],
 "metadata": {
  "kernelspec": {
   "display_name": "Python 3 (ipykernel)",
   "language": "python",
   "name": "python3"
  },
  "language_info": {
   "codemirror_mode": {
    "name": "ipython",
    "version": 3
   },
   "file_extension": ".py",
   "mimetype": "text/x-python",
   "name": "python",
   "nbconvert_exporter": "python",
   "pygments_lexer": "ipython3",
   "version": "3.11.4"
  }
 },
 "nbformat": 4,
 "nbformat_minor": 5
}
