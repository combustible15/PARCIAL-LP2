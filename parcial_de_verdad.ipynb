{
 "cells": [
  {
   "cell_type": "code",
   "execution_count": 2,
   "id": "c46d8df1-4c7b-4797-a686-56108beb8516",
   "metadata": {},
   "outputs": [],
   "source": [
    "##A\n",
    "def leer_secuencia_fna(archivo):\n",
    "    with open(archivo, 'r') as f:\n",
    "        secuencia_adn = ''\n",
    "        #Leer todas las líneas del archivo\n",
    "        for linea in f:\n",
    "            #Eliminar espacios en blanco al inicio y al final\n",
    "            linea = linea.strip()\n",
    "            #Verificar si todos los caracteres son válidos (A, C, G, T)\n",
    "            if all(caracter in 'ACGT' for caracter in linea):\n",
    "                secuencia_adn += linea\n",
    "    return secuencia_adn\n",
    "\n",
    "\n",
    "archivo_fna = 'gene.fna'\n",
    "secuencia_adn = leer_secuencia_fna(archivo_fna)\n"
   ]
  },
  {
   "cell_type": "code",
   "execution_count": 3,
   "id": "6c1656fd-197c-4df6-8f81-c978fa162e76",
   "metadata": {},
   "outputs": [
    {
     "name": "stdout",
     "output_type": "stream",
     "text": [
      "Porcentaje de C: 18.55%\n",
      "Porcentaje de G: 20.71%\n",
      "Porcentaje de C o G: 39.260000000000005 %\n"
     ]
    }
   ],
   "source": [
    "##A\n",
    "archivo_fna = 'gene.fna'\n",
    "secuencia_adn = leer_secuencia_fna(archivo_fna)\n",
    "\n",
    "import re\n",
    "\n",
    "def calcular_porcentaje_cg(secuencia_adn):\n",
    "    # Contar las bases C y G\n",
    "    count_c = len(re.findall(r'C', secuencia_adn))\n",
    "    count_g = len(re.findall(r'G', secuencia_adn))\n",
    "\n",
    "    # Calcular el total de bases\n",
    "    total_bases = len(secuencia_adn)\n",
    "\n",
    "    # Calcular el porcentaje de C y G\n",
    "    porcentaje_c = (count_c / total_bases) * 100\n",
    "    porcentaje_g = (count_g / total_bases) * 100\n",
    "\n",
    "    return porcentaje_c, porcentaje_g\n",
    "\n",
    "porcentaje_c, porcentaje_g = calcular_porcentaje_cg(secuencia_adn)\n",
    "print(f'Porcentaje de C: {porcentaje_c:.2f}%')\n",
    "print(f'Porcentaje de G: {porcentaje_g:.2f}%')\n",
    "print(\"Porcentaje de C o G:\",18.55+20.71,\"%\")"
   ]
  },
  {
   "cell_type": "code",
   "execution_count": 4,
   "id": "f7ec8bbf-7449-456b-9544-ef6bd0e2f885",
   "metadata": {},
   "outputs": [
    {
     "name": "stdout",
     "output_type": "stream",
     "text": [
      "Número de CCG: 199\n",
      "Número de GCC: 1367\n",
      "Número total de CCG o GCC: 1566\n"
     ]
    }
   ],
   "source": [
    "##B\n",
    "import re\n",
    "\n",
    "def patrones_CCG_GCC(archivo_fna):\n",
    "  \"\"\"\n",
    "  Cuenta el número de patrones CCG y GCC en una secuencia de ADN usando ventanas deslizantes de tres nucleótidos.\n",
    "\n",
    "  Parámetros:\n",
    "    archivo_fna: Ruta del archivo FASTA que contiene la secuencia de ADN.\n",
    "\n",
    "  Devuelve:\n",
    "    Un diccionario con las claves \"CCG_count\" y \"GCC_count\", que contienen el número de ocurrencias de cada patrón, respectivamente.\n",
    "  \"\"\"\n",
    "\n",
    "  # Leer la secuencia de ADN\n",
    "  with open(archivo_fna, 'r') as f:\n",
    "    secuencia = f.read().splitlines()[1:]  # Omitir la primera línea (encabezado)\n",
    "    secuencia = ''.join(secuencia)  # Unir las líneas en una sola cadena\n",
    "\n",
    "  # Contar patrones CCG y GCC\n",
    "  CCG_count = 0\n",
    "  GCC_count = 0\n",
    "\n",
    "  for patron in re.finditer(r\"(CCG|GCC)\", secuencia):\n",
    "    if patron.group(1) == \"CCG\":\n",
    "      CCG_count += 1\n",
    "    elif patron.group(1) == \"GCC\":\n",
    "      GCC_count += 1\n",
    "\n",
    "  # Devolver resultados\n",
    "  return {\n",
    "      \"CCG_count\": CCG_count,\n",
    "      \"GCC_count\": GCC_count\n",
    "  }\n",
    "\n",
    "# Ejemplo de uso\n",
    "resultados = patrones_CCG_GCC(\"gene.fna\")\n",
    "print(f\"Número de CCG: {resultados['CCG_count']}\")\n",
    "print(f\"Número de GCC: {resultados['GCC_count']}\")\n",
    "print(\"Número total de CCG o GCC:\",199+1367,)"
   ]
  },
  {
   "cell_type": "code",
   "execution_count": 5,
   "id": "dc82daf8-bec9-4920-83a5-6c6948294ec7",
   "metadata": {},
   "outputs": [],
   "source": [
    "##B \n",
    "#b) Tomando secuencias de tres nucleóticos de ventana determine el número de CCG o GCC que se encuentran en la secuencia. Usando expresiones regulares"
   ]
  },
  {
   "cell_type": "code",
   "execution_count": 6,
   "id": "4888aed4-91c5-488d-a4e7-260f762bae2b",
   "metadata": {},
   "outputs": [
    {
     "name": "stdout",
     "output_type": "stream",
     "text": [
      "Número de secuencias GAATTC: 32\n"
     ]
    }
   ],
   "source": [
    "##C\n",
    "import re\n",
    "\n",
    "def patrones_GAATTC(archivo_fna):\n",
    "  \"\"\"\n",
    "  Cuenta el número de ocurrencias del patrón GAATTC en una secuencia de ADN.\n",
    "\n",
    "  Parámetros:\n",
    "    archivo_fna: Ruta del archivo FASTA que contiene la secuencia de ADN.\n",
    "\n",
    "  Devuelve:\n",
    "    Un entero que representa el número de ocurrencias del patrón GAATTC.\n",
    "  \"\"\"\n",
    "\n",
    "  # Leer la secuencia de ADN\n",
    "  with open(archivo_fna, 'r') as f:\n",
    "    secuencia = f.read().splitlines()[1:]  # Omitir la primera línea (encabezado)\n",
    "    secuencia = ''.join(secuencia)  # Unir las líneas en una sola cadena\n",
    "\n",
    "  # Contar patrones GAATTC\n",
    "  patron_count = len(re.findall(r\"(GAATTC)\", secuencia))\n",
    "\n",
    "  # Devolver el número de ocurrencias\n",
    "  return patron_count\n",
    "\n",
    "# Ejemplo de uso\n",
    "patrones_encontrados = patrones_GAATTC(\"gene.fna\")\n",
    "print(f\"Número de secuencias GAATTC: {patrones_encontrados}\")\n"
   ]
  },
  {
   "cell_type": "code",
   "execution_count": 7,
   "id": "d65dac8a-8711-47bd-8140-b3c451439fe9",
   "metadata": {},
   "outputs": [],
   "source": [
    "##C\n",
    "#c) Busca y cuenta las secuencias: GAATTC "
   ]
  },
  {
   "cell_type": "code",
   "execution_count": null,
   "id": "9274b732-9008-4cdd-b512-c9c86dbac1ce",
   "metadata": {},
   "outputs": [],
   "source": []
  }
 ],
 "metadata": {
  "kernelspec": {
   "display_name": "Python 3 (ipykernel)",
   "language": "python",
   "name": "python3"
  },
  "language_info": {
   "codemirror_mode": {
    "name": "ipython",
    "version": 3
   },
   "file_extension": ".py",
   "mimetype": "text/x-python",
   "name": "python",
   "nbconvert_exporter": "python",
   "pygments_lexer": "ipython3",
   "version": "3.11.7"
  }
 },
 "nbformat": 4,
 "nbformat_minor": 5
}
