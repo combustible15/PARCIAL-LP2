{
 "cells": [
  {
   "cell_type": "code",
   "execution_count": 2,
   "id": "c46d8df1-4c7b-4797-a686-56108beb8516",
   "metadata": {},
   "outputs": [],
   "source": [
    "##A\n",
    "def leer_secuencia_fna(archivo):\n",
    "    with open(archivo, 'r') as f:\n",
    "        secuencia_adn = ''\n",
    "        #Leer todas las líneas del archivo\n",
    "        for linea in f:\n",
    "            #Eliminar espacios en blanco al inicio y al final\n",
    "            linea = linea.strip()\n",
    "            #Verificar si todos los caracteres son válidos (A, C, G, T)\n",
    "            if all(caracter in 'ACGT' for caracter in linea):\n",
    "                secuencia_adn += linea\n",
    "    return secuencia_adn\n",
    "\n",
    "\n",
    "archivo_fna = 'gene.fna'\n",
    "secuencia_adn = leer_secuencia_fna(archivo_fna)\n"
   ]
  },
  {
   "cell_type": "code",
   "execution_count": 10,
   "id": "6c1656fd-197c-4df6-8f81-c978fa162e76",
   "metadata": {},
   "outputs": [
    {
     "name": "stdout",
     "output_type": "stream",
     "text": [
      "Porcentaje de C: 18.55%\n",
      "Porcentaje de G: 20.71%\n",
      "Porcentaje de C o G: 39.260000000000005 %\n"
     ]
    }
   ],
   "source": [
    "##A\n",
    "archivo_fna = 'gene.fna'\n",
    "secuencia_adn = leer_secuencia_fna(archivo_fna)\n",
    "\n",
    "import re\n",
    "\n",
    "def calcular_porcentaje_cg(secuencia_adn):\n",
    "    # Contar las bases C y G\n",
    "    count_c = len(re.findall(r'C', secuencia_adn))\n",
    "    count_g = len(re.findall(r'G', secuencia_adn))\n",
    "\n",
    "    # Calcular el total de bases\n",
    "    total_bases = len(secuencia_adn)\n",
    "\n",
    "    # Calcular el porcentaje de C y G\n",
    "    porcentaje_c = (count_c / total_bases) * 100\n",
    "    porcentaje_g = (count_g / total_bases) * 100\n",
    "\n",
    "    return porcentaje_c, porcentaje_g\n",
    "\n",
    "porcentaje_c, porcentaje_g = calcular_porcentaje_cg(secuencia_adn)\n",
    "print(f'Porcentaje de C: {porcentaje_c:.2f}%')\n",
    "print(f'Porcentaje de G: {porcentaje_g:.2f}%')\n",
    "print(\"Porcentaje de C o G:\",18.55+20.71,\"%\")"
   ]
  },
  {
   "cell_type": "code",
   "execution_count": null,
   "id": "f7ec8bbf-7449-456b-9544-ef6bd0e2f885",
   "metadata": {},
   "outputs": [],
   "source": []
  }
 ],
 "metadata": {
  "kernelspec": {
   "display_name": "Python 3 (ipykernel)",
   "language": "python",
   "name": "python3"
  },
  "language_info": {
   "codemirror_mode": {
    "name": "ipython",
    "version": 3
   },
   "file_extension": ".py",
   "mimetype": "text/x-python",
   "name": "python",
   "nbconvert_exporter": "python",
   "pygments_lexer": "ipython3",
   "version": "3.11.7"
  }
 },
 "nbformat": 4,
 "nbformat_minor": 5
}
